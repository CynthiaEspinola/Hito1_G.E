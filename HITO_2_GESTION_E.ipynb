{
  "nbformat": 4,
  "nbformat_minor": 0,
  "metadata": {
    "colab": {
      "provenance": [],
      "authorship_tag": "ABX9TyM+8YJ1pWVRFu0j6rJrmCTB",
      "include_colab_link": true
    },
    "kernelspec": {
      "name": "python3",
      "display_name": "Python 3"
    },
    "language_info": {
      "name": "python"
    }
  },
  "cells": [
    {
      "cell_type": "markdown",
      "metadata": {
        "id": "view-in-github",
        "colab_type": "text"
      },
      "source": [
        "<a href=\"https://colab.research.google.com/github/CynthiaEspinola/Hito1_G.E/blob/main/HITO_2_GESTION_E.ipynb\" target=\"_parent\"><img src=\"https://colab.research.google.com/assets/colab-badge.svg\" alt=\"Open In Colab\"/></a>"
      ]
    },
    {
      "cell_type": "code",
      "execution_count": null,
      "metadata": {
        "id": "nTbqoBRsKbe-"
      },
      "outputs": [],
      "source": []
    },
    {
      "cell_type": "markdown",
      "source": [
        "**Hito 2** - Cynthia Espinola"
      ],
      "metadata": {
        "id": "9TU38dMfKceR"
      }
    },
    {
      "cell_type": "code",
      "source": [
        "pip install scipy"
      ],
      "metadata": {
        "colab": {
          "base_uri": "https://localhost:8080/"
        },
        "id": "0nhYATouKgll",
        "outputId": "81d69588-9d2c-43ad-c2b9-e14ba05ed8f0"
      },
      "execution_count": 1,
      "outputs": [
        {
          "output_type": "stream",
          "name": "stdout",
          "text": [
            "Requirement already satisfied: scipy in /usr/local/lib/python3.10/dist-packages (1.11.3)\n",
            "Requirement already satisfied: numpy<1.28.0,>=1.21.6 in /usr/local/lib/python3.10/dist-packages (from scipy) (1.23.5)\n"
          ]
        }
      ]
    },
    {
      "cell_type": "markdown",
      "source": [
        "Opcion 1 : **Black  Black-Scholes**"
      ],
      "metadata": {
        "id": "WX5BFeOHKn0e"
      }
    },
    {
      "cell_type": "code",
      "source": [
        "import math\n",
        "from scipy.stats import norm\n",
        "from datetime import datetime as dt\n",
        "import datetime\n",
        "import yfinance as yf\n",
        "\n",
        "\n",
        "#definimos de que \"Opcion\" debe traer la informacion\n",
        "e = \"BCH\" # Especificacion del simbolo del activo, es decir, BCH (Banco de Chile)\n",
        "t = yf.Ticker(e) # Creamos un objeto Ticker para el activo subyacente.\n",
        "S = t.info[\"currentPrice\"]\n",
        "\n",
        "\n",
        "# para calcula la volatilidad, debemos aplicar los siguientes pasos :\n",
        "# 1. Agrupar los datos más relevantes de un activo en un lapso de tiempo específico / Definimos las fechas\n",
        "start_date =\"2023-01-01\"\n",
        "end_date = dt.now()\n",
        "\n",
        "\n",
        "#2. Calcular la rentabilidad dividiendo el precio del activo en x día, entre el precio original del activo.\n",
        "rent = yf.download(e,start_date,end_date)\n",
        "\n",
        "#3.Calcular volatilidad, sacando la raíz cuadrada de la rentabilidad.\n",
        "\n",
        "rent[\"Returns\"] = rent[\"Adj Close\"].pct_change()\n",
        "sigma=rent[\"Returns\"].std()\n",
        "\n",
        "# posteriormente obtenemos la informacion restante sobre la opcion para luego reemplzarla en la formula de Black-Scholes.\n",
        "\n",
        "# Precio de ejercicio de la opción\n",
        "opcion = yf.Ticker(\"BCH240119C00017500\")\n",
        "K = opcion.info[\"strikePrice\"]\n",
        "\n",
        "# Período hasta el vencimiento en años\n",
        "D_Termino = opcion.info[\"expireDate\"]\n",
        "End_Time = datetime_obj = dt.utcfromtimestamp(D_Termino)\n",
        "T= ((End_Time - end_date)).days/365\n",
        "\n",
        "\n",
        "# Calcula r como la tasa de interés de un activo libre de riesgo.\n",
        "\n",
        "# Buscamos las siglas bono del Tesoro de EE. UU.\n",
        "treasury_bond = \"^TNX\"\n",
        "\n",
        "# Definimos el periodo que deseo obtener la tasa de interés libre de riesgo.\n",
        "fecha_inicio = \"2023-01-01\"\n",
        "\n",
        "# Crea un objeto Ticker para el bono del Tesoro.\n",
        "treasury_bond_ticker = yf.Ticker(treasury_bond)\n",
        "\n",
        "# Obtenemos el historial de precios del bono del Tesoro en el periodo determinado\n",
        "bond_history = treasury_bond_ticker.history(period=\"1d\", start=fecha_inicio, end=dt.now())\n",
        "\n",
        "\n",
        "# Finalmente obtenemos la tasa de interes\n",
        "risk_free_rate = bond_history.iloc[0][\"Close\"] / 100  # Dividimos por 100 para obtener el valor en tanto por uno.\n",
        "\n",
        "r = risk_free_rate\n",
        "\n",
        "############################################################################################################################################################################\n",
        "\n",
        "# Calcula el precio de una opción utilizando la fórmula Black-Scholes.\n",
        "def black_scholes(S, K, T, r, sigma, option_type='call'):\n",
        "\n",
        "\n",
        "    d1 = (math.log(S / K) + (r + (sigma ** 2) / 2) * T) / (sigma * math.sqrt(T))\n",
        "    d2 = d1 - sigma * math.sqrt(T)\n",
        "    option_price = S * norm_cdf(d1) - K * math.exp(-r * T) * norm_cdf(d2)\n",
        "    return option_price\n",
        "\n",
        "#  Calculamos la función de distribución acumulativa estándar de una variable aleatoria normal.\n",
        "\n",
        "def norm_cdf(x):\n",
        "    from scipy.stats import norm\n",
        "    return norm.cdf(x)\n",
        "\n",
        "\n",
        "call_option_price = black_scholes(S, K, T, r, sigma, option_type='call')\n",
        "\n",
        "\n",
        "print(\"Precio de una opción de compra del Banco Chile :\",call_option_price)"
      ],
      "metadata": {
        "colab": {
          "base_uri": "https://localhost:8080/"
        },
        "id": "2L28lFLfKqEF",
        "outputId": "4a95862a-cccb-4329-ddfe-2e4425de246a"
      },
      "execution_count": 2,
      "outputs": [
        {
          "output_type": "stream",
          "name": "stdout",
          "text": [
            "\r[*********************100%%**********************]  1 of 1 completed\n",
            "Precio de una opción de compra del Banco Chile : 2.1820943883819908\n"
          ]
        }
      ]
    },
    {
      "cell_type": "markdown",
      "source": [
        "**Opción 2 - Valorización Binomial**"
      ],
      "metadata": {
        "id": "gzdhGYaFK0fp"
      }
    },
    {
      "cell_type": "code",
      "source": [
        "import math\n",
        "from scipy.stats import norm\n",
        "from datetime import datetime as dt\n",
        "import datetime\n",
        "import yfinance as yf\n",
        "#Utilizaremos los mismos datos obtenidos previamente.\n",
        "\n",
        "#definimos de que \"Opcion\" debe traer la informacion\n",
        "e = \"BCH\" # Especificacion del simbolo del activo, es decir, BCH (Banco de Chile)\n",
        "t = yf.Ticker(e) # Creamos un objeto Ticker para el activo subyacente.\n",
        "S = t.info[\"currentPrice\"]\n",
        "\n",
        "\n",
        "# para calcula la volatilidad, debemos aplicar los siguientes pasos :\n",
        "# 1. Agrupar los datos más relevantes de un activo en un lapso de tiempo específico / Definimos las fechas\n",
        "start_date =\"2023-01-01\"\n",
        "end_date = dt.now()\n",
        "\n",
        "\n",
        "#2. Calcular la rentabilidad dividiendo el precio del activo en equis día, entre el precio original del activo.\n",
        "rent = yf.download(e,start_date,end_date)\n",
        "\n",
        "#3.Calcular volatilidad, sacando la raíz cuadrada de la rentabilidad.\n",
        "\n",
        "rent[\"Returns\"] = rent[\"Adj Close\"].pct_change()\n",
        "sigma=rent[\"Returns\"].std()\n",
        "\n",
        "# posteriormente obtenemos la informacion restante sobre la opcion para luego reemplzarla en la formula de Black-Scholes.\n",
        "\n",
        "# Precio de ejercicio de la opción\n",
        "opcion = yf.Ticker(\"BCH240119C00017500\")\n",
        "K = opcion.info[\"strikePrice\"]\n",
        "\n",
        "# Período hasta el vencimiento en años\n",
        "D_Termino = opcion.info[\"expireDate\"]\n",
        "End_Time = datetime_obj = dt.utcfromtimestamp(D_Termino)\n",
        "T= ((End_Time - end_date)).days/365\n",
        "\n",
        "\n",
        "# Calcula r como la tasa de interés de un activo libre de riesgo.\n",
        "\n",
        "# Buscamos las siglas bono del Tesoro de EE. UU.\n",
        "treasury_bond = \"^TNX\"\n",
        "\n",
        "# Definimos el periodo que deseo obtener la tasa de interés libre de riesgo.\n",
        "fecha_inicio = \"2023-01-01\"\n",
        "\n",
        "# Crea un objeto Ticker para el bono del Tesoro.\n",
        "treasury_bond_ticker = yf.Ticker(treasury_bond)\n",
        "\n",
        "# Obtenemos el historial de precios del bono del Tesoro en el periodo determinado\n",
        "bond_history = treasury_bond_ticker.history(period=\"1d\", start=fecha_inicio, end=dt.now())\n",
        "\n",
        "\n",
        "# Finalmente obtenemos la tasa de interes\n",
        "risk_free_rate = bond_history.iloc[0][\"Close\"] / 100  # Dividimos por 100 para obtener el valor en tanto por uno.\n",
        "\n",
        "r = risk_free_rate\n",
        "\n",
        "\n",
        "def binomial_option_pricing(S, K, T, r, sigma, n):\n",
        "    f_t = T / n\n",
        "    u = 1 + (r * f_t) + (sigma * (f_t ** 0.5))\n",
        "    d = 1 + (r * f_t) - (sigma * (f_t ** 0.5))\n",
        "    q = (1 + r - d) / (u - d)\n",
        "\n",
        "    # Definimos el inicio del árbol de precios de la opción (\"BCH240119C00017500\"\")\n",
        "    option_prices = [0] * (n + 1)\n",
        "\n",
        "    # Calculamos los precios de la opción en la última capa del árbol\n",
        "    for i in range(n + 1):\n",
        "      option_prices[i] = max(0, S * (u ** (n - i)) * (d ** i) - K)\n",
        "\n",
        "    # Hacemos un barrido hacia atrás en el árbol para calcular el precio actual de la opción\n",
        "    for step in range(n - 1, -1, -1):\n",
        "        for i in range(step + 1):\n",
        "            option_prices[i] = (q * option_prices[i] + (1 - q) * option_prices[i + 1]) / (1 + r)\n",
        "\n",
        "    return option_prices[0]\n",
        "\n",
        "n=10 # n: Número de pasos en el modelo binomial\n",
        "option_price = binomial_option_pricing(S, K, T, r, sigma, n)\n",
        "\n",
        "print(\"Precio de la opción:\" , option_price)\n",
        "\n",
        "\n"
      ],
      "metadata": {
        "colab": {
          "base_uri": "https://localhost:8080/"
        },
        "id": "PMAdPX62Kz9u",
        "outputId": "e7d5ffe4-3246-4849-b6ca-e0ef44ed27a8"
      },
      "execution_count": 1,
      "outputs": [
        {
          "output_type": "stream",
          "name": "stdout",
          "text": [
            "\r[*********************100%%**********************]  1 of 1 completed\n",
            "Precio de la opción: 7.470202381430388\n"
          ]
        }
      ]
    }
  ]
}